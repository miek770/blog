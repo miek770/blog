{
 "cells": [
  {
   "attachments": {},
   "cell_type": "markdown",
   "metadata": {},
   "source": [
    "# Symmetrical components"
   ]
  },
  {
   "attachments": {},
   "cell_type": "markdown",
   "metadata": {},
   "source": [
    "Electrical power systems are often composed of three phases, i.e.: three sinusoidal waves delayed by 1/3 of a cycle between each other. This allows for the a constant power delivery with alternating voltage and current. Those three phases are designated A, B and C."
   ]
  },
  {
   "attachments": {},
   "cell_type": "markdown",
   "metadata": {},
   "source": [
    "This article shows how to present and manage such signals in a jupyter notebook, and will present how a three phase unbalanced circuit is derived into three balanced components - symmetrical components - to facilitate analysis."
   ]
  },
  {
   "attachments": {},
   "cell_type": "markdown",
   "metadata": {},
   "source": [
    "> Talk a bit more about the technical side of things, or at least refer another guide that's really focused on the technical aspects."
   ]
  },
  {
   "attachments": {},
   "cell_type": "markdown",
   "metadata": {},
   "source": [
    "## Requirements"
   ]
  },
  {
   "attachments": {},
   "cell_type": "markdown",
   "metadata": {},
   "source": [
    "> jupyterlab / notebook (optional), numpy & matplotlib (pip)."
   ]
  },
  {
   "attachments": {},
   "cell_type": "markdown",
   "metadata": {},
   "source": [
    "## Balanced 3-phase signal"
   ]
  },
  {
   "attachments": {},
   "cell_type": "markdown",
   "metadata": {},
   "source": [
    "First, the more-than-popular [NumPy](https://numpy.org/) library is required, in addition to [Matplotlib](https://matplotlib.org/) for visualization:"
   ]
  },
  {
   "cell_type": "code",
   "execution_count": null,
   "metadata": {},
   "outputs": [],
   "source": [
    "import numpy as np\n",
    "import matplotlib.pyplot as plt"
   ]
  },
  {
   "attachments": {},
   "cell_type": "markdown",
   "metadata": {},
   "source": [
    "After setting some parameters, we'll use a basic logic - which will be improved later - to plot a basic balanced, 3-phase signal over a full cycle:"
   ]
  },
  {
   "cell_type": "code",
   "execution_count": null,
   "metadata": {},
   "outputs": [],
   "source": [
    "frequency = 60   # Hz\n",
    "samples = 1000   # Unitless\n",
    "amplitude = 100  # Amperes"
   ]
  },
  {
   "attachments": {},
   "cell_type": "markdown",
   "metadata": {},
   "source": [
    "`numpy.linspace` is really conventient to create time periods over the desired range, with the desired number of samples:"
   ]
  },
  {
   "cell_type": "code",
   "execution_count": null,
   "metadata": {},
   "outputs": [],
   "source": [
    "# Time domain\n",
    "t = np.linspace(0, 1 / frequency, samples)"
   ]
  },
  {
   "cell_type": "code",
   "execution_count": null,
   "metadata": {},
   "outputs": [],
   "source": [
    "\n",
    "# Currents for phases A, B and C\n",
    "Ia = amplitude * np.sin(2 * np.pi * frequency * t)\n",
    "Ib = amplitude * np.sin(2 * np.pi * frequency * t + (2 * np.pi / 3))\n",
    "Ic = amplitude * np.sin(2 * np.pi * frequency * t + (4 * np.pi / 3))"
   ]
  },
  {
   "cell_type": "code",
   "execution_count": null,
   "metadata": {},
   "outputs": [],
   "source": [
    "# Plot the time-domain waveform over 1 cycle\n",
    "plt.figure(figsize=(12, 6))\n",
    "plt.subplot(2, 2, 1)\n",
    "t = np.linspace(0, 1 / frequency, samples)\n",
    "\n",
    "plt.plot(t, Ia, label='Phase A')\n",
    "plt.plot(t, Ib, label='Phase B')\n",
    "plt.plot(t, Ic, label='Phase C')\n",
    "\n",
    "plt.xlabel('Time (s)')\n",
    "plt.ylabel('Current (A)')\n",
    "plt.title(f\"3-Phase Current Waveform (1x {frequency} Hz cycle)\")\n",
    "plt.legend()"
   ]
  },
  {
   "attachments": {},
   "cell_type": "markdown",
   "metadata": {},
   "source": [
    "As I mentioned above, this allows us to transfer *constant power* with alternative current. Since $V = IR$, where:\n",
    "* $V$ = Voltage\n",
    "* $I$ = Current\n",
    "* $R$ = Resistance"
   ]
  },
  {
   "cell_type": "code",
   "execution_count": null,
   "metadata": {},
   "outputs": [],
   "source": [
    "\n",
    "# Function to generate unbalanced three-phase current waveform\n",
    "def three_phase_current(amplitude, imbalance, samples, frequency):\n",
    "    t = np.linspace(0, 1 / frequency, samples)\n",
    "    Ia = amplitude * np.sin(2 * np.pi * frequency * t)\n",
    "    Ib = amplitude * np.sin(2 * np.pi * frequency * t + (2 * np.pi / 3))\n",
    "    Ic = amplitude * (1 + imbalance) * np.sin(2 * np.pi * frequency * t + (4 * np.pi / 3))\n",
    "    return Ia, Ib, Ic\n",
    "\n",
    "# Generate unbalanced three-phase current waveform\n",
    "frequency = 60  # Hz\n",
    "samples = 1000\n",
    "amplitude = 100\n",
    "imbalance = 0.2\n",
    "\n",
    "Ia, Ib, Ic = three_phase_current(amplitude, imbalance, samples, frequency)\n",
    "\n",
    "# Calculate symmetrical components at time=0\n",
    "Ipos = (1 / 3) * (Ia[0] + Ib[0] + Ic[0])\n",
    "Ineg = (1 / 3) * (Ia[0] + np.exp(2j * np.pi / 3) * Ib[0] + np.exp(-2j * np.pi / 3) * Ic[0])\n",
    "Izero = (1 / 3) * (Ia[0] + Ib[0] + Ic[0]) - Ipos\n",
    "\n",
    "# Plot the time-domain waveform (approximately one cycle)\n",
    "plt.figure(figsize=(12, 6))\n",
    "plt.subplot(2, 2, 1)\n",
    "t = np.linspace(0, 1 / frequency, samples)\n",
    "plt.plot(t, Ia, label='Phase A')\n",
    "plt.plot(t, Ib, label='Phase B')\n",
    "plt.plot(t, Ic, label='Phase C')\n",
    "plt.xlabel('Time (s)')\n",
    "plt.ylabel('Current (A)')\n",
    "plt.title('Three-Phase Current Waveform (Approximately One Cycle)')\n",
    "plt.legend()\n",
    "\n",
    "# Plot the positive sequence current phasors on a polar plot\n",
    "plt.subplot(2, 2, 2, polar=True)\n",
    "plt.title('Positive Sequence Current')\n",
    "plt.arrow(0, 0, np.angle(Ipos), np.abs(Ipos), head_width=0.1, head_length=0.2, fc='b', ec='b')\n",
    "plt.arrow(0, 0, np.angle(Ipos * np.exp(2j * np.pi / 3)), np.abs(Ipos), head_width=0.1, head_length=0.2, fc='r', ec='r')\n",
    "plt.arrow(0, 0, np.angle(Ipos * np.exp(-2j * np.pi / 3)), np.abs(Ipos), head_width=0.1, head_length=0.2, fc='g', ec='g')\n",
    "\n",
    "# Plot the negative sequence current phasors on a polar plot\n",
    "plt.subplot(2, 2, 3, polar=True)\n",
    "plt.title('Negative Sequence Current')\n",
    "plt.arrow(0, 0, np.angle(Ineg), np.abs(Ineg), head_width=0.1, head_length=0.2, fc='b', ec='b')\n",
    "plt.arrow(0, 0, np.angle(Ineg * np.exp(2j * np.pi / 3)), np.abs(Ineg), head_width=0.1, head_length=0.2, fc='r', ec='r')\n",
    "plt.arrow(0, 0, np.angle(Ineg * np.exp(-2j * np.pi / 3)), np.abs(Ineg), head_width=0.1, head_length=0.2, fc='g', ec='g')\n",
    "\n",
    "# Plot the zero sequence current phasor on a polar plot\n",
    "plt.subplot(2, 2, 4, polar=True)\n",
    "plt.title('Zero Sequence Current')\n",
    "plt.arrow(0, 0, np.angle(Izero), np.abs(Izero), head_width=0.1, head_length=0.2, fc='b', ec='b')\n",
    "\n",
    "# Adjust the layout\n",
    "plt.tight_layout()\n",
    "\n",
    "# Save the figure as a PNG image\n",
    "plt.savefig('current_waveform.png')\n",
    "plt.show()\n"
   ]
  },
  {
   "attachments": {},
   "cell_type": "markdown",
   "metadata": {},
   "source": [
    "> Show at least 1 or 2 examples using `energy_tools`, especially the `Phasor`."
   ]
  }
 ],
 "metadata": {
  "kernelspec": {
   "display_name": "Python 3",
   "language": "python",
   "name": "python3"
  },
  "language_info": {
   "codemirror_mode": {
    "name": "ipython",
    "version": 3
   },
   "file_extension": ".py",
   "mimetype": "text/x-python",
   "name": "python",
   "nbconvert_exporter": "python",
   "pygments_lexer": "ipython3",
   "version": "3.11.1"
  },
  "orig_nbformat": 4
 },
 "nbformat": 4,
 "nbformat_minor": 2
}
