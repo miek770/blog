{
 "cells": [
  {
   "cell_type": "markdown",
   "metadata": {},
   "source": [
    "# Short circuit analysis"
   ]
  },
  {
   "cell_type": "markdown",
   "metadata": {},
   "source": [
    "Sources:\n",
    "\n",
    "* [Short Circuit ABC](https://arcadvisor.com/files/ShortCircuitABC.pdf)\n",
    "* [GridCal - Short circuit driver](https://github.com/SanPen/GridCal/blob/master/src/GridCal/Engine/Simulations/ShortCircuitStudies/short_circuit_driver.py)"
   ]
  },
  {
   "cell_type": "markdown",
   "metadata": {},
   "source": [
    "## Figure 4 of [1]"
   ]
  },
  {
   "cell_type": "markdown",
   "metadata": {},
   "source": [
    "![img](2023-09-xx_Figure1.png)"
   ]
  },
  {
   "cell_type": "markdown",
   "metadata": {},
   "source": [
    "## MVA method"
   ]
  },
  {
   "cell_type": "markdown",
   "metadata": {},
   "source": [
    "### 3 phase fault"
   ]
  },
  {
   "cell_type": "code",
   "execution_count": 1,
   "metadata": {},
   "outputs": [],
   "source": [
    "from energy_tools.misc import parallel"
   ]
  },
  {
   "cell_type": "code",
   "execution_count": 2,
   "metadata": {},
   "outputs": [
    {
     "name": "stdout",
     "output_type": "stream",
     "text": [
      "3 phase fault = 11.0 kA (227.8 MVA)\n"
     ]
    }
   ],
   "source": [
    "system_mva = 1500\n",
    "line_mva = 69**2 / 3.87\n",
    "xfo_mva = 15 / 0.076\n",
    "motor_mva = 15 / 0.2\n",
    "\n",
    "upstream_mva = parallel((system_mva, line_mva, xfo_mva))\n",
    "sc_mva = upstream_mva + motor_mva\n",
    "\n",
    "sc_ka = sc_mva / (12 * 3**0.5)\n",
    "print(f\"3 phase fault = {sc_ka:.1f} kA ({sc_mva:.1f} MVA)\")"
   ]
  },
  {
   "cell_type": "markdown",
   "metadata": {},
   "source": [
    "### 1 phase fault"
   ]
  },
  {
   "cell_type": "code",
   "execution_count": 3,
   "metadata": {},
   "outputs": [
    {
     "name": "stdout",
     "output_type": "stream",
     "text": [
      "1 phase fault = 12.4 kA (257.3 MVA)\n"
     ]
    }
   ],
   "source": [
    "sc_neg_mva = sc_mva\n",
    "\n",
    "# The transformer's zero sequence reactance is equal to its positive\n",
    "# and negative sequence reactances\n",
    "xfo0_mva = xfo_mva\n",
    "\n",
    "# The motor's zero sequence reactance is about ½ of its positive\n",
    "# sequence reactance\n",
    "motor0_mva = 2 * motor_mva\n",
    "\n",
    "sc0_mva = xfo0_mva + motor0_mva\n",
    "\n",
    "sc0_mva = parallel((sc_mva, sc_neg_mva, sc0_mva)) * 3\n",
    "sc0_ka = sc0_mva / (12 * 3**0.5)\n",
    "\n",
    "print(f\"1 phase fault = {sc0_ka:.1f} kA ({sc0_mva:.1f} MVA)\")"
   ]
  },
  {
   "cell_type": "markdown",
   "metadata": {},
   "source": [
    "## Pandapower"
   ]
  },
  {
   "cell_type": "code",
   "execution_count": 4,
   "metadata": {},
   "outputs": [],
   "source": [
    "import pandapower as pp\n",
    "import pandapower.shortcircuit as sc"
   ]
  },
  {
   "cell_type": "markdown",
   "metadata": {},
   "source": [
    "Explain the IEC correction factors."
   ]
  },
  {
   "cell_type": "markdown",
   "metadata": {},
   "source": [
    "Can't explain the ~2.65 impedance factor for the transformer in single phase fault simulation. "
   ]
  },
  {
   "cell_type": "code",
   "execution_count": 5,
   "metadata": {},
   "outputs": [
    {
     "name": "stdout",
     "output_type": "stream",
     "text": [
      "Bus 0 (69 kV):\n",
      " * 3 phase fault = 13.2 kA (1575.0 MVA)\n",
      "Bus 1 (69 kV):\n",
      " * 3 phase fault = 6.3 kA (750.9 MVA)\n",
      "Bus 2 (12 kV):\n",
      " * 3 phase fault = 11.0 kA (228.3 MVA)\n",
      " * 1 phase fault = 12.4 kA\n"
     ]
    }
   ],
   "source": [
    "net = pp.create_empty_network(f_hz=60.0)\n",
    "\n",
    "# Create buses\n",
    "bus0 = pp.create_bus(net=net, vn_kv=69)\n",
    "bus1 = pp.create_bus(net=net, vn_kv=69)\n",
    "bus2 = pp.create_bus(net=net, vn_kv=12)\n",
    "\n",
    "# Create utility\n",
    "pp.create_ext_grid(\n",
    "    net=net,\n",
    "    bus=bus0,\n",
    "    s_sc_max_mva=1500,\n",
    "    rx_max=1e-20,\n",
    "    rx_min=1e-20,\n",
    "    x0x_max=1,  # For 1 phase fault\n",
    "    r0x0_max=1,  # For 1 phase fault\n",
    ")\n",
    "\n",
    "# Create line\n",
    "pp.create_line_from_parameters(\n",
    "    net=net,\n",
    "    from_bus=bus0,\n",
    "    to_bus=bus1,\n",
    "    length_km=1,\n",
    "    r_ohm_per_km=1e-20,\n",
    "    x_ohm_per_km=3.87 * 1.1,  # To remove IEC voltage correction factor\n",
    "    c_nf_per_km=1e-20,\n",
    "    r0_ohm_per_km=1e-20,\n",
    "    x0_ohm_per_km=1e-20,\n",
    "    c0_nf_per_km=1e-20,\n",
    "    max_i_ka=1,\n",
    ")\n",
    "\n",
    "# Create transformer\n",
    "xfo_3ph = pp.create_transformer_from_parameters(\n",
    "    net=net,\n",
    "    hv_bus=bus1,\n",
    "    lv_bus=bus2,\n",
    "    sn_mva=15,\n",
    "    vn_hv_kv=69,\n",
    "    vn_lv_kv=12,\n",
    "    vkr_percent=1e-20,\n",
    "    vk_percent=7.6 * 1.1,  # To remove IEC voltage correction factor\n",
    "    pfe_kw=1e-20,\n",
    "    i0_percent=1e-20,\n",
    "    vector_group=\"Dyn\",  # For 1 phase fault\n",
    "    vkr0_percent=1e-20,  # For 1 phase fault\n",
    "    vk0_percent=1e-20,  # For 1 phase fault\n",
    "    mag0_percent=1e-20,  # For 1 phase fault\n",
    "    si0_hv_partial=1e-20,  # For 1 phase fault\n",
    "    mag0_rx=1e-20,  # For 1 phase fault\n",
    ")\n",
    "\n",
    "# Create transformer\n",
    "xfo_1ph = pp.create_transformer_from_parameters(\n",
    "    net=net,\n",
    "    hv_bus=bus1,\n",
    "    lv_bus=bus2,\n",
    "    sn_mva=15,\n",
    "    vn_hv_kv=69,\n",
    "    vn_lv_kv=12,\n",
    "    vkr_percent=1e-20,\n",
    "    vk_percent=7.6 * 1.1 * 2.65,  # Trial and error\n",
    "    # vk_percent=7.6 * 3,  # Almost perfect, but why???\n",
    "    pfe_kw=1e-20,\n",
    "    i0_percent=1e-20,\n",
    "    vector_group=\"Dyn\",  # For 1 phase fault\n",
    "    vkr0_percent=1e-20,  # For 1 phase fault\n",
    "    vk0_percent=1e-20,  # For 1 phase fault\n",
    "    mag0_percent=1e-20,  # For 1 phase fault\n",
    "    si0_hv_partial=1e-20,  # For 1 phase fault\n",
    "    mag0_rx=1e-20,  # For 1 phase fault\n",
    ")\n",
    "\n",
    "# Create motor with an X1 of 0.2 pu\n",
    "motor_3ph = pp.create_sgen(\n",
    "    net=net,\n",
    "    bus=bus2,\n",
    "    p_mw=1e-20,\n",
    "    sn_mva=15,\n",
    "    type=\"motor\",\n",
    "    k=5,\n",
    "    rx=1e-20,\n",
    ")\n",
    "\n",
    "# Create motor with an X0 of 0.1 pu\n",
    "motor_1ph = pp.create_sgen(\n",
    "    net=net,\n",
    "    bus=bus2,\n",
    "    p_mw=1e-20,\n",
    "    sn_mva=15,\n",
    "    type=\"motor\",\n",
    "    k=10,\n",
    "    rx=1e-20,\n",
    ")\n",
    "\n",
    "buses = [\n",
    "    # bus  id kv  single_phase\n",
    "    (bus0, 0, 69, False),\n",
    "    (bus1, 1, 69, False),\n",
    "    (bus2, 2, 12, True),\n",
    "]\n",
    "\n",
    "for bus, id, kv, single_phase in buses:\n",
    "    # Enable models for 3 phase fault\n",
    "    net.trafo.at[xfo_3ph, \"in_service\"] = True\n",
    "    net.sgen.at[motor_3ph, \"in_service\"] = True\n",
    "\n",
    "    # Disable models for 1 phase fault\n",
    "    net.trafo.at[xfo_1ph, \"in_service\"] = False\n",
    "    net.sgen.at[motor_1ph, \"in_service\"] = False\n",
    "\n",
    "    print(f\"Bus {id} ({kv} kV):\")\n",
    "    # Run 3 phase short circuit calculation\n",
    "    sc.calc_sc(net=net, bus=bus)\n",
    "\n",
    "    sc_ka = net.res_bus_sc.loc[id, 'ikss_ka']\n",
    "    sc_mva = sc_ka * kv * 3**0.5\n",
    "    print(f\" * 3 phase fault = {sc_ka:.1f} kA ({sc_mva:.1f} MVA)\")\n",
    "\n",
    "    if single_phase:\n",
    "        # Disable models for 3 phase fault\n",
    "        net.trafo.at[xfo_3ph, \"in_service\"] = False\n",
    "        net.sgen.at[motor_3ph, \"in_service\"] = False\n",
    "\n",
    "        # Enable models for 1 phase fault\n",
    "        net.trafo.at[xfo_1ph, \"in_service\"] = True\n",
    "        net.sgen.at[motor_1ph, \"in_service\"] = True\n",
    "\n",
    "        # Run 1 phase short circuit calculation\n",
    "        sc.calc_sc(net=net, bus=bus, fault=\"1ph\")\n",
    "\n",
    "        sc_ka = net.res_bus_sc.loc[id, 'ikss_ka']\n",
    "        print(f\" * 1 phase fault = {sc_ka:.1f} kA\")"
   ]
  },
  {
   "cell_type": "markdown",
   "metadata": {},
   "source": [
    "## GridCal"
   ]
  },
  {
   "cell_type": "markdown",
   "metadata": {},
   "source": [
    "Still can't get it to work, the documentation and code comments are not made for direct usage (without the UI)."
   ]
  },
  {
   "cell_type": "markdown",
   "metadata": {},
   "source": [
    "See :\n",
    "\n",
    "* [Five nodes tutorial](https://gridcal.readthedocs.io/en/latest/tutorials/five_node_grid.html)\n",
    "* [Transformer2W](https://github.com/SanPen/GridCal/blob/master/src/GridCal/Engine/Devices/transformer.py)\n",
    "* [test_short_circuit.py](https://github.com/SanPen/GridCal/blob/master/src/tests/test_short_circuit.py)"
   ]
  },
  {
   "cell_type": "code",
   "execution_count": 9,
   "metadata": {},
   "outputs": [
    {
     "name": "stdout",
     "output_type": "stream",
     "text": [
      "Bentayga is not available\n",
      "Power Grid Model available\n",
      "Newton Power Analytics is not available: No module named 'newtonpa'\n"
     ]
    }
   ],
   "source": [
    "from GridCal.Engine import *"
   ]
  },
  {
   "cell_type": "code",
   "execution_count": 10,
   "metadata": {},
   "outputs": [],
   "source": [
    "np.set_printoptions(precision=4)"
   ]
  },
  {
   "cell_type": "code",
   "execution_count": 11,
   "metadata": {},
   "outputs": [],
   "source": [
    "s_base_mva = 1500\n",
    "grid = MultiCircuit(Sbase=s_base_mva)\n",
    "\n",
    "# Create the 69 kV slack bus\n",
    "bus1 = Bus(vnom=69)\n",
    "bus1.is_slack = True\n",
    "grid.add_bus(bus1)\n",
    "\n",
    "# Create the 69 kV transformer primary bus\n",
    "bus2 = Bus(vnom=69)\n",
    "grid.add_bus(bus2)\n",
    "\n",
    "# Create the 12 kV motor control center (MCC)\n",
    "bus3 = Bus(vnom=12)\n",
    "grid.add_bus(bus3)\n",
    "\n",
    "# Add a 1500 MVA utility\n",
    "grid.add_generator(bus1, Generator(\n",
    "    Snom=s_base_mva,  # MVA\n",
    "    x1=1,  # pu\n",
    "))\n",
    "\n",
    "# Add a 69 kV line\n",
    "grid.add_line(Line(\n",
    "    bus_from=bus1,\n",
    "    bus_to=bus2,\n",
    "    x=3.87 / (69**2 / s_base_mva)  # pu\n",
    "))\n",
    "\n",
    "# Add a transformer between the utility and the MCC\n",
    "grid.add_transformer2w(Transformer2W(\n",
    "    bus_from=bus2,\n",
    "    bus_to=bus3,\n",
    "    x=0.076,  # pu\n",
    "    rate=15,  # MVA\n",
    "))\n",
    "\n",
    "# Add the motor (modeled as generator for short circuit)\n",
    "#grid.add_generator(bus3, Generator(\n",
    "#    Snom=15,  # MVA\n",
    "#    x1=0.2,  # pu\n",
    "#))\n",
    "\n",
    "pf_options = PowerFlowOptions(SolverType.NR)\n",
    "power_flow = PowerFlowDriver(grid, pf_options)\n",
    "power_flow.run()\n",
    "\n",
    "# Raise error if it did not converge\n",
    "assert power_flow.results.converged"
   ]
  },
  {
   "cell_type": "code",
   "execution_count": 12,
   "metadata": {},
   "outputs": [
    {
     "name": "stdout",
     "output_type": "stream",
     "text": [
      "Total fault = 31.4 kA (653.5 MVA)\n"
     ]
    }
   ],
   "source": [
    "bus_index = 2\n",
    "\n",
    "sc_options = ShortCircuitOptions(\n",
    "    bus_index=[bus_index],\n",
    "    fault_type=FaultType.ph3,\n",
    ")\n",
    "\n",
    "short_circuit = ShortCircuitDriver(\n",
    "    grid=grid,\n",
    "    options=sc_options,\n",
    "    pf_options=pf_options,\n",
    "    pf_results=power_flow.results,\n",
    ")\n",
    "\n",
    "short_circuit.run()\n",
    "\n",
    "scc_mva = abs(short_circuit.results.SCpower[bus_index])\n",
    "scc_ka = scc_mva / (12 * 3**0.5)\n",
    "print(f\"Total fault = {scc_ka:.1f} kA ({scc_mva:.1f} MVA)\")"
   ]
  },
  {
   "cell_type": "markdown",
   "metadata": {},
   "source": [
    "## PyPSA"
   ]
  },
  {
   "cell_type": "markdown",
   "metadata": {},
   "source": [
    "Does not support short circuit calculations."
   ]
  }
 ],
 "metadata": {
  "kernelspec": {
   "display_name": "Python 3",
   "language": "python",
   "name": "python3"
  },
  "language_info": {
   "codemirror_mode": {
    "name": "ipython",
    "version": 3
   },
   "file_extension": ".py",
   "mimetype": "text/x-python",
   "name": "python",
   "nbconvert_exporter": "python",
   "pygments_lexer": "ipython3",
   "version": "3.8.10"
  },
  "orig_nbformat": 4
 },
 "nbformat": 4,
 "nbformat_minor": 2
}
